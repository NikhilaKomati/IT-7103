{
  "nbformat": 4,
  "nbformat_minor": 0,
  "metadata": {
    "colab": {
      "provenance": [],
      "mount_file_id": "1Do91yw23yuT6pBTk0Mx7P95kEOSK88if",
      "authorship_tag": "ABX9TyNYUYdhg/eIagLzlawspO/c",
      "include_colab_link": true
    },
    "kernelspec": {
      "name": "python3",
      "display_name": "Python 3"
    },
    "language_info": {
      "name": "python"
    }
  },
  "cells": [
    {
      "cell_type": "markdown",
      "metadata": {
        "id": "view-in-github",
        "colab_type": "text"
      },
      "source": [
        "<a href=\"https://colab.research.google.com/github/NikhilaKomati/IT-7103/blob/main/IT_7103_assignment_3.ipynb\" target=\"_parent\"><img src=\"https://colab.research.google.com/assets/colab-badge.svg\" alt=\"Open In Colab\"/></a>"
      ]
    },
    {
      "cell_type": "markdown",
      "source": [
        "Below is a code template for the described assignment."
      ],
      "metadata": {
        "id": "G548WgmrI3LP"
      }
    },
    {
      "cell_type": "markdown",
      "source": [
        "**Step 1: Importing the Data**"
      ],
      "metadata": {
        "id": "rBqkPr0nJLHM"
      }
    },
    {
      "cell_type": "code",
      "execution_count": 6,
      "metadata": {
        "colab": {
          "base_uri": "https://localhost:8080/"
        },
        "id": "T6P7hIoMIRio",
        "outputId": "7c12c258-eea0-4163-92c9-9d4529713a08"
      },
      "outputs": [
        {
          "output_type": "stream",
          "name": "stdout",
          "text": [
            "      id  gender   age  hypertension  heart_disease ever_married  \\\n",
            "0   9046    Male  67.0             0              1          Yes   \n",
            "1  51676  Female  61.0             0              0          Yes   \n",
            "2  31112    Male  80.0             0              1          Yes   \n",
            "3  60182  Female  49.0             0              0          Yes   \n",
            "4   1665  Female  79.0             1              0          Yes   \n",
            "\n",
            "       work_type Residence_type  avg_glucose_level   bmi   smoking_status  \\\n",
            "0        Private          Urban             228.69  36.6  formerly smoked   \n",
            "1  Self-employed          Rural             202.21   NaN     never smoked   \n",
            "2        Private          Rural             105.92  32.5     never smoked   \n",
            "3        Private          Urban             171.23  34.4           smokes   \n",
            "4  Self-employed          Rural             174.12  24.0     never smoked   \n",
            "\n",
            "   stroke  \n",
            "0       1  \n",
            "1       1  \n",
            "2       1  \n",
            "3       1  \n",
            "4       1  \n"
          ]
        }
      ],
      "source": [
        "import pandas as pd\n",
        "\n",
        "\n",
        "file_path = '/content/drive/MyDrive/Colab Notebooks/stroke.csv'\n",
        "stroke_data = pd.read_csv(file_path)\n",
        "\n",
        "# Display the first few rows of the dataset to inspect the data\n",
        "print(stroke_data.head())\n"
      ]
    },
    {
      "cell_type": "markdown",
      "source": [
        "**Step 2: Preprocessing the Data**"
      ],
      "metadata": {
        "id": "g8Dq2hxsJpEo"
      }
    },
    {
      "cell_type": "code",
      "source": [
        "from sklearn.model_selection import train_test_split\n",
        "from sklearn.preprocessing import StandardScaler\n",
        "\n",
        "# Checking for missing values\n",
        "print(\"Missing values before preprocessing:\")\n",
        "print(stroke_data.isnull().sum())\n",
        "\n",
        "# Handling missing values (for simplicity, we can drop rows with missing values)\n",
        "stroke_data = stroke_data.dropna()\n",
        "\n",
        "# Encoding categorical variables using one-hot encoding\n",
        "stroke_data = pd.get_dummies(stroke_data, columns=['gender', 'ever_married', 'work_type', 'Residence_type', 'smoking_status'])\n",
        "\n",
        "# Spliting the data into features (X) and target variable (y)\n",
        "X = stroke_data.drop('stroke', axis=1)\n",
        "y = stroke_data['stroke']\n",
        "\n",
        "# Spliting the data into training and testing sets\n",
        "X_train, X_test, y_train, y_test = train_test_split(X, y, test_size=0.2, random_state=42)\n",
        "\n",
        "# Standardizing the features using StandardScaler\n",
        "scaler = StandardScaler()\n",
        "X_train_scaled = scaler.fit_transform(X_train)\n",
        "X_test_scaled = scaler.transform(X_test)\n"
      ],
      "metadata": {
        "colab": {
          "base_uri": "https://localhost:8080/"
        },
        "id": "MSZd9es0IW8O",
        "outputId": "7d05b150-0baf-4446-b1f7-9bb59fa8a1e2"
      },
      "execution_count": 7,
      "outputs": [
        {
          "output_type": "stream",
          "name": "stdout",
          "text": [
            "Missing values before preprocessing:\n",
            "id                     0\n",
            "gender                 0\n",
            "age                    0\n",
            "hypertension           0\n",
            "heart_disease          0\n",
            "ever_married           0\n",
            "work_type              0\n",
            "Residence_type         0\n",
            "avg_glucose_level      0\n",
            "bmi                  201\n",
            "smoking_status         0\n",
            "stroke                 0\n",
            "dtype: int64\n"
          ]
        }
      ]
    },
    {
      "cell_type": "markdown",
      "source": [
        "**Step 3: Determine the Task and Model Selection**"
      ],
      "metadata": {
        "id": "2mVsLgwzJ11r"
      }
    },
    {
      "cell_type": "markdown",
      "source": [
        "Since the target variable is whether a patient has had a stroke or not, this is a binary classification task. Let's use Logistic Regression, Decision Tree, and Random Forest classifiers."
      ],
      "metadata": {
        "id": "X5TPzwE8J9Ri"
      }
    },
    {
      "cell_type": "code",
      "source": [
        "from sklearn.linear_model import LogisticRegression\n",
        "from sklearn.tree import DecisionTreeClassifier\n",
        "from sklearn.ensemble import RandomForestClassifier\n",
        "from sklearn.metrics import accuracy_score, classification_report, confusion_matrix\n",
        "\n",
        "# Model 1: Logistic Regression\n",
        "model_lr = LogisticRegression()\n",
        "model_lr.fit(X_train_scaled, y_train)\n",
        "y_pred_lr = model_lr.predict(X_test_scaled)\n",
        "\n",
        "# Model 2: Decision Tree\n",
        "model_dt = DecisionTreeClassifier()\n",
        "model_dt.fit(X_train_scaled, y_train)\n",
        "y_pred_dt = model_dt.predict(X_test_scaled)\n",
        "\n",
        "# Model 3: Random Forest\n",
        "model_rf = RandomForestClassifier()\n",
        "model_rf.fit(X_train_scaled, y_train)\n",
        "y_pred_rf = model_rf.predict(X_test_scaled)\n",
        "\n",
        "# Modelling Evaluation\n",
        "print(\"Logistic Regression Accuracy:\", accuracy_score(y_test, y_pred_lr))\n",
        "print(\"Decision Tree Accuracy:\", accuracy_score(y_test, y_pred_dt))\n",
        "print(\"Random Forest Accuracy:\", accuracy_score(y_test, y_pred_rf))\n",
        "\n",
        "# Print classification reports and confusion matrices for detailed evaluation\n",
        "print(\"Logistic Regression Report:\\n\", classification_report(y_test, y_pred_lr))\n",
        "print(\"Decision Tree Report:\\n\", classification_report(y_test, y_pred_dt))\n",
        "print(\"Random Forest Report:\\n\", classification_report(y_test, y_pred_rf))\n",
        "\n",
        "print(\"Logistic Regression Confusion Matrix:\\n\", confusion_matrix(y_test, y_pred_lr))\n",
        "print(\"Decision Tree Confusion Matrix:\\n\", confusion_matrix(y_test, y_pred_dt))\n",
        "print(\"Random Forest Confusion Matrix:\\n\", confusion_matrix(y_test, y_pred_rf))\n"
      ],
      "metadata": {
        "colab": {
          "base_uri": "https://localhost:8080/"
        },
        "id": "ubkiC8k2IsGm",
        "outputId": "a5304f5e-10f1-4bc9-d405-515de20270b4"
      },
      "execution_count": 8,
      "outputs": [
        {
          "output_type": "stream",
          "name": "stdout",
          "text": [
            "Logistic Regression Accuracy: 0.9460285132382892\n",
            "Decision Tree Accuracy: 0.9103869653767821\n",
            "Random Forest Accuracy: 0.9460285132382892\n",
            "Logistic Regression Report:\n",
            "               precision    recall  f1-score   support\n",
            "\n",
            "           0       0.95      1.00      0.97       929\n",
            "           1       0.00      0.00      0.00        53\n",
            "\n",
            "    accuracy                           0.95       982\n",
            "   macro avg       0.47      0.50      0.49       982\n",
            "weighted avg       0.89      0.95      0.92       982\n",
            "\n",
            "Decision Tree Report:\n",
            "               precision    recall  f1-score   support\n",
            "\n",
            "           0       0.95      0.96      0.95       929\n",
            "           1       0.11      0.09      0.10        53\n",
            "\n",
            "    accuracy                           0.91       982\n",
            "   macro avg       0.53      0.53      0.53       982\n",
            "weighted avg       0.90      0.91      0.91       982\n",
            "\n",
            "Random Forest Report:\n",
            "               precision    recall  f1-score   support\n",
            "\n",
            "           0       0.95      1.00      0.97       929\n",
            "           1       0.00      0.00      0.00        53\n",
            "\n",
            "    accuracy                           0.95       982\n",
            "   macro avg       0.47      0.50      0.49       982\n",
            "weighted avg       0.89      0.95      0.92       982\n",
            "\n",
            "Logistic Regression Confusion Matrix:\n",
            " [[929   0]\n",
            " [ 53   0]]\n",
            "Decision Tree Confusion Matrix:\n",
            " [[889  40]\n",
            " [ 48   5]]\n",
            "Random Forest Confusion Matrix:\n",
            " [[929   0]\n",
            " [ 53   0]]\n"
          ]
        },
        {
          "output_type": "stream",
          "name": "stderr",
          "text": [
            "/usr/local/lib/python3.10/dist-packages/sklearn/metrics/_classification.py:1344: UndefinedMetricWarning: Precision and F-score are ill-defined and being set to 0.0 in labels with no predicted samples. Use `zero_division` parameter to control this behavior.\n",
            "  _warn_prf(average, modifier, msg_start, len(result))\n",
            "/usr/local/lib/python3.10/dist-packages/sklearn/metrics/_classification.py:1344: UndefinedMetricWarning: Precision and F-score are ill-defined and being set to 0.0 in labels with no predicted samples. Use `zero_division` parameter to control this behavior.\n",
            "  _warn_prf(average, modifier, msg_start, len(result))\n",
            "/usr/local/lib/python3.10/dist-packages/sklearn/metrics/_classification.py:1344: UndefinedMetricWarning: Precision and F-score are ill-defined and being set to 0.0 in labels with no predicted samples. Use `zero_division` parameter to control this behavior.\n",
            "  _warn_prf(average, modifier, msg_start, len(result))\n",
            "/usr/local/lib/python3.10/dist-packages/sklearn/metrics/_classification.py:1344: UndefinedMetricWarning: Precision and F-score are ill-defined and being set to 0.0 in labels with no predicted samples. Use `zero_division` parameter to control this behavior.\n",
            "  _warn_prf(average, modifier, msg_start, len(result))\n",
            "/usr/local/lib/python3.10/dist-packages/sklearn/metrics/_classification.py:1344: UndefinedMetricWarning: Precision and F-score are ill-defined and being set to 0.0 in labels with no predicted samples. Use `zero_division` parameter to control this behavior.\n",
            "  _warn_prf(average, modifier, msg_start, len(result))\n",
            "/usr/local/lib/python3.10/dist-packages/sklearn/metrics/_classification.py:1344: UndefinedMetricWarning: Precision and F-score are ill-defined and being set to 0.0 in labels with no predicted samples. Use `zero_division` parameter to control this behavior.\n",
            "  _warn_prf(average, modifier, msg_start, len(result))\n"
          ]
        }
      ]
    }
  ]
}